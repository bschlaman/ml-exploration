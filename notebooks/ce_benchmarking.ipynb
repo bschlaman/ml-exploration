{
 "cells": [
  {
   "cell_type": "markdown",
   "metadata": {},
   "source": [
    "## CVE Predictor Engine\n",
    "The goal of this notebook is to start fresh and implement new techniques like *conditional entropy sorting*\n",
    "to reduce feature dimensionality."
   ]
  },
  {
   "cell_type": "markdown",
   "metadata": {},
   "source": [
    "### Part 1: GPU Training / Benchmarking\n",
    "\n",
    "Before implementing any new techniques, I want to benchmark the training process to compare\n",
    "CPU training vs GPU training with an `Intel Arc A370M` on my HP Spectre x16.\n",
    "\n",
    "----\n",
    "\n",
    "#### Training attempt with max vector contributions\n",
    "\n",
    "Note to self: each index in `cves` has an array called `source_data`;\n",
    "this is my true raw data.  If a `source_data` entry has all of the following, I will include it.\n",
    "1. `cve_id`\n",
    "1. `description`\n",
    "1. `scores.[].vector`\n",
    "\n",
    "The parent description should be copied to each of the vectors in `scores`.\n",
    "\n",
    "**Important:** some of this code is copy-pasta from the other notebook and may diverge slightly."
   ]
  },
  {
   "cell_type": "code",
   "execution_count": null,
   "metadata": {},
   "outputs": [],
   "source": [
    "import os\n",
    "import json\n",
    "import pandas as pd\n",
    "\n",
    "def load_cves():\n",
    "    \"\"\"Loads all cve data, indexed by cve_id\"\"\"\n",
    "    cves = {}\n",
    "    for subdir in (\"2017\", \"2018\", \"2019\", \"2020\", \"2021\", \"2022\", \"2023\"):\n",
    "        path = os.path.join(\"../data/cve\", subdir)\n",
    "        for file in os.listdir(path):\n",
    "            with open(os.path.join(path, file)) as f:\n",
    "                cves[file.removesuffix(\".json\")] = json.load(f)\n",
    "    return cves\n",
    "\n",
    "def construct_training_set(cves: dict):\n",
    "    \"\"\"\n",
    "    Scan through all CVEs for cve.source_data elements.\n",
    "    For each element, couple the cve.source_data.elem.description\n",
    "    with each cve.source_data.elem.score.\n",
    "    \"\"\"\n",
    "    examples = []\n",
    "    for cve_data in cves.values():\n",
    "        for sd in cve_data[\"source_data\"]:\n",
    "            if \"scores\" not in sd: continue\n",
    "            examples.extend(\n",
    "                [\n",
    "                    {\"description\": sd[\"description\"]} | score\n",
    "                    for score in sd[\"scores\"]\n",
    "                ]\n",
    "            )\n",
    "    return examples"
   ]
  },
  {
   "cell_type": "code",
   "execution_count": null,
   "metadata": {},
   "outputs": [],
   "source": [
    "# can take a few seconds\n",
    "cves = load_cves()"
   ]
  },
  {
   "cell_type": "code",
   "execution_count": null,
   "metadata": {},
   "outputs": [],
   "source": [
    "df_x = pd.DataFrame(construct_training_set(cves))"
   ]
  },
  {
   "cell_type": "code",
   "execution_count": null,
   "metadata": {},
   "outputs": [],
   "source": [
    "import logging\n",
    "\n",
    "logging.getLogger(\"cve_engine.data_processing\").setLevel(logging.INFO)\n",
    "from cve_engine.cvss_data import CVSS_BASE_METRICS\n",
    "from cve_engine.data_processing import (\n",
    "    clean_cvss_vector,\n",
    "    desc_preprocess,\n",
    "    vec_parse_metric,\n",
    "    create_bow,\n",
    ")\n",
    "\n",
    "\n",
    "def extract_cvss_vector_components(df: pd.DataFrame, vector: pd.Series):\n",
    "    for metric in CVSS_BASE_METRICS:\n",
    "        df[metric] = vector.dropna().apply(lambda v: vec_parse_metric(v, metric))\n",
    "    return df\n",
    "\n",
    "df_x[\"vector_clean\"] = df_x[\"vector\"].apply(clean_cvss_vector)\n",
    "df_x[\"processed_desc\"] = df_x[\"description\"].apply(desc_preprocess)\n",
    "df_x = extract_cvss_vector_components(df_x, df_x[\"vector_clean\"])\n",
    "\n",
    "df_x.to_csv(\"../df_x.csv\")"
   ]
  },
  {
   "cell_type": "code",
   "execution_count": null,
   "metadata": {},
   "outputs": [],
   "source": [
    "# only this compact is version is used going forward\n",
    "df_x_clean = df_x.dropna(subset=[\"vector_clean\"]).copy()"
   ]
  },
  {
   "cell_type": "code",
   "execution_count": null,
   "metadata": {},
   "outputs": [],
   "source": [
    "from sklearn.preprocessing import OneHotEncoder\n",
    "\n",
    "\n",
    "for metric in CVSS_BASE_METRICS.keys():\n",
    "    encoder = LabelEncoder()\n",
    "    df_x_clean[metric + \"_Y\"] = encoder.fit_transform(df_x_clean[metric])\n",
    "\n",
    "Y_np = df_x_clean[[metric + \"_Y\" for metric in CVSS_BASE_METRICS.keys()]].values\n",
    "Y = torch.from_numpy(Y_np)\n",
    "\n",
    "Y.shape\n"
   ]
  },
  {
   "cell_type": "code",
   "execution_count": null,
   "metadata": {},
   "outputs": [],
   "source": [
    "# split the data and create Y matrices\n",
    "train_split = 0.8\n",
    "i = int(0.8 * len(Y))\n",
    "X_train_raw, X_test_raw = df_x_clean[\"processed_desc\"][:i], df_x_clean[\"processed_desc\"][i:]\n",
    "Y_train, Y_test = Y[:i], Y[i:]\n",
    "\n",
    "# compute X_train_np just so we can examine the shape;\n",
    "# the actual X_train will be constructed just before training\n",
    "bow_vec, X_train_np = create_bow(X_train_raw.to_list())\n",
    "X_train_np.shape, Y_train.shape\n"
   ]
  },
  {
   "cell_type": "code",
   "execution_count": null,
   "metadata": {},
   "outputs": [],
   "source": [
    "from cve_engine.engine import CVEEngineModel\n",
    "\n",
    "cvem = CVEEngineModel()\n"
   ]
  },
  {
   "cell_type": "code",
   "execution_count": null,
   "metadata": {},
   "outputs": [],
   "source": [
    "cvem.new_model(bow_vec)\n",
    "cvem.display_parameters()\n"
   ]
  },
  {
   "cell_type": "code",
   "execution_count": null,
   "metadata": {},
   "outputs": [],
   "source": [
    "cvem.train_all(X_train_raw.to_numpy(), Y_train)"
   ]
  },
  {
   "cell_type": "code",
   "execution_count": null,
   "metadata": {},
   "outputs": [],
   "source": []
  },
  {
   "cell_type": "code",
   "execution_count": null,
   "metadata": {},
   "outputs": [],
   "source": []
  }
 ],
 "metadata": {
  "kernelspec": {
   "display_name": ".venv",
   "language": "python",
   "name": "python3"
  },
  "language_info": {
   "codemirror_mode": {
    "name": "ipython",
    "version": 3
   },
   "file_extension": ".py",
   "mimetype": "text/x-python",
   "name": "python",
   "nbconvert_exporter": "python",
   "pygments_lexer": "ipython3",
   "version": "3.10.0"
  },
  "orig_nbformat": 4
 },
 "nbformat": 4,
 "nbformat_minor": 2
}
