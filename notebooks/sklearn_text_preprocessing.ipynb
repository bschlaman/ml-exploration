{
 "cells": [
  {
   "cell_type": "markdown",
   "metadata": {},
   "source": [
    "### Using sklearn to preprocess CVE data\n",
    "\n",
    "[Working With Text Data — scikit-learn 1.3.2 documentation](https://scikit-learn.org/stable/tutorial/text_analytics/working_with_text_data.html)"
   ]
  },
  {
   "cell_type": "code",
   "execution_count": null,
   "metadata": {},
   "outputs": [],
   "source": [
    "import json\n",
    "import pandas as pd\n",
    "import torch\n",
    "import sys\n",
    "import pickle\n",
    "import os\n",
    "import numpy as np\n",
    "\n",
    "import logging\n",
    "from cve_engine.cvss_data import CVSS_BASE_METRICS\n",
    "from cve_engine.data_processing import (\n",
    "    clean_cvss_vector,\n",
    "    desc_preprocess,\n",
    "    vec_parse_metric,\n",
    "    create_bow,\n",
    ")\n",
    "\n",
    "logging.basicConfig(\n",
    "    format=\"[%(levelname)-8s] (%(name)s) %(message)s\",\n",
    "    level=logging.DEBUG,\n",
    ")\n",
    "log = logging.getLogger(__name__)\n",
    "logging.getLogger(\"cve_engine.data_processing\").setLevel(logging.INFO)\n",
    "\n",
    "\n",
    "def load_cves():\n",
    "    \"\"\"Loads all cve data, indexed by cve_id\"\"\"\n",
    "    cves = {}\n",
    "    for subdir in (\"2017\", \"2018\", \"2019\", \"2020\", \"2021\", \"2022\", \"2023\"):\n",
    "        path = os.path.join(\"../data/cve\", subdir)\n",
    "        for file in os.listdir(path):\n",
    "            with open(os.path.join(path, file)) as f:\n",
    "                cves[file.removesuffix(\".json\")] = json.load(f)\n",
    "    return cves\n",
    "\n",
    "\n",
    "def construct_training_set(cves: dict):\n",
    "    \"\"\"\n",
    "    Scan through all CVEs for cve.source_data elements.\n",
    "    For each element, couple the cve.source_data.elem.description\n",
    "    with each cve.source_data.elem.score.\n",
    "    \"\"\"\n",
    "    examples = []\n",
    "    for cve_data in cves.values():\n",
    "        for sd in cve_data[\"source_data\"]:\n",
    "            if \"scores\" not in sd:\n",
    "                continue\n",
    "            examples.extend(\n",
    "                [{\"description\": sd[\"description\"]} | score for score in sd[\"scores\"]]\n",
    "            )\n",
    "    return examples"
   ]
  },
  {
   "cell_type": "code",
   "execution_count": null,
   "metadata": {},
   "outputs": [],
   "source": [
    "pkl_path = \"../cves.pkl\"\n",
    "\n",
    "if os.path.isfile(pkl_path):\n",
    "    with open(pkl_path, \"rb\") as f:\n",
    "        cves = pickle.load(f)\n",
    "else:\n",
    "    # can take a few seconds\n",
    "    cves = load_cves()\n",
    "    with open(pkl_path, \"wb\") as f:\n",
    "        pickle.dump(cves, f)\n",
    "\n",
    "print(f\"{sys.getsizeof(cves) / 1e6} mb\")"
   ]
  },
  {
   "cell_type": "code",
   "execution_count": null,
   "metadata": {},
   "outputs": [],
   "source": [
    "df = pd.DataFrame(construct_training_set(cves))\n",
    "df"
   ]
  },
  {
   "cell_type": "code",
   "execution_count": null,
   "metadata": {},
   "outputs": [],
   "source": [
    "\n",
    "def extract_cvss_vector_components(df: pd.DataFrame, vector: pd.Series):\n",
    "    for metric in CVSS_BASE_METRICS:\n",
    "        df[metric] = vector.dropna().apply(lambda v: vec_parse_metric(v, metric))\n",
    "    return df\n",
    "\n",
    "log.info(\"cleaning cvss vectors\")\n",
    "df[\"vector_clean\"] = df[\"vector\"].apply(clean_cvss_vector)\n",
    "log.info(\"processing descriptions\")\n",
    "df[\"processed_desc\"] = df[\"description\"].apply(desc_preprocess)\n",
    "log.info(\"extracting cvss vector components\")\n",
    "df = extract_cvss_vector_components(df, df[\"vector_clean\"])"
   ]
  },
  {
   "cell_type": "code",
   "execution_count": null,
   "metadata": {},
   "outputs": [],
   "source": [
    "# only this compact version is used going forward\n",
    "df_clean = df.dropna(subset=[\"vector_clean\"]).copy()\n",
    "df_clean"
   ]
  }
 ],
 "metadata": {
  "kernelspec": {
   "display_name": ".venv",
   "language": "python",
   "name": "python3"
  },
  "language_info": {
   "codemirror_mode": {
    "name": "ipython",
    "version": 3
   },
   "file_extension": ".py",
   "mimetype": "text/x-python",
   "name": "python",
   "nbconvert_exporter": "python",
   "pygments_lexer": "ipython3",
   "version": "3.10.12"
  }
 },
 "nbformat": 4,
 "nbformat_minor": 2
}
