{
 "cells": [
  {
   "attachments": {},
   "cell_type": "markdown",
   "metadata": {},
   "source": [
    "#### Mean squared error\n",
    "\n",
    "$$\n",
    "    \\text{MSE}(\\hat{\\theta}) = \\text{Var}_\\theta(\\hat{\\theta})\n",
    "    + \\text{Bias}(\\hat{\\theta}, \\theta)^2\n",
    "$$"
   ]
  },
  {
   "cell_type": "code",
   "execution_count": null,
   "metadata": {},
   "outputs": [],
   "source": [
    "import numpy as np\n",
    "import pandas as pd\n",
    "import scipy\n",
    "\n",
    "s1 = np.array([85, 90, 78, 92, 88, 84, 89, 92, 85, 87])\n",
    "s2 = np.array([92, 94, 89, 95, 91, 93, 91, 95, 90, 92])\n",
    "s1, s2"
   ]
  },
  {
   "cell_type": "code",
   "execution_count": null,
   "metadata": {},
   "outputs": [],
   "source": [
    "s1.mean(), s2.mean()"
   ]
  },
  {
   "cell_type": "code",
   "execution_count": null,
   "metadata": {},
   "outputs": [],
   "source": [
    "s1.std(), s2.std()"
   ]
  },
  {
   "cell_type": "code",
   "execution_count": null,
   "metadata": {},
   "outputs": [],
   "source": [
    "std_err_difference = ((s1.std() ** 2) / len(s1) + (s2.std() ** 2) / len(s2)) ** 0.5\n",
    "std_err_difference"
   ]
  },
  {
   "cell_type": "code",
   "execution_count": null,
   "metadata": {},
   "outputs": [],
   "source": [
    "t_stat = (s1.mean() - s2.mean()) / std_err_difference\n"
   ]
  },
  {
   "cell_type": "code",
   "execution_count": null,
   "metadata": {},
   "outputs": [],
   "source": [
    "import scipy.stats as stats\n",
    "\n",
    "df = 2 * len(s1) - 2\n",
    "p_value = 2 * (1 - stats.t.cdf(abs(t_stat), df))\n",
    "df, p_value\n"
   ]
  },
  {
   "cell_type": "code",
   "execution_count": null,
   "metadata": {},
   "outputs": [],
   "source": [
    "# shuffling the columns independently does not preserve contingency table!\n",
    "# instead, we get values closer to the \"expected frequencies\"!\n",
    "df = pd.DataFrame(\n",
    "    {\n",
    "        \"Color\": np.random.permutation([\"Red\"] * 100 + [\"Blue\"] * 200),\n",
    "        \"Accident\": np.random.permutation([True] * 80 + [False] * 220),\n",
    "    }\n",
    ")\n",
    "df = pd.DataFrame(\n",
    "    {\n",
    "        \"Color\": [\"Red\"] * 100 + [\"Blue\"] * 200,\n",
    "        \"Accident\": [\"Yes\"] * 30 + [\"No\"] * 70 + [\"Yes\"] * 50 + [\"No\"] * 150,\n",
    "    }\n",
    ")\n",
    "df = df.sample(frac=1).reset_index(drop=True)\n",
    "df\n"
   ]
  },
  {
   "cell_type": "code",
   "execution_count": null,
   "metadata": {},
   "outputs": [],
   "source": [
    "contingency_table = pd.crosstab(df[\"Color\"], df[\"Accident\"])\n",
    "contingency_table\n"
   ]
  },
  {
   "cell_type": "code",
   "execution_count": null,
   "metadata": {},
   "outputs": [],
   "source": [
    "alpha = 0.5\n",
    "chi2stat, pvalue, dof, expected_frequency = scipy.stats.chi2_contingency(contingency_table, correction=False)\n",
    "chi2stat, pvalue, dof, expected_frequency, pvalue <= alpha"
   ]
  },
  {
   "cell_type": "code",
   "execution_count": null,
   "metadata": {},
   "outputs": [],
   "source": [
    "# (\n",
    "#     (30 - 26.67) ** 2 / 26.67\n",
    "#     + (70 - 73.33) ** 2 / 73.33\n",
    "#     + (50 - 53.33) ** 2 / 53.33\n",
    "#     + (150 - 146.67) ** 2 / 146.67\n",
    "# )\n",
    "for x in expected_frequency.flatten():\n",
    "    print(x)\n",
    "\n",
    "chi2 = np.power((contingency_table.to_numpy() - expected_frequency), 2) / expected_frequency\n",
    "np.sum(chi2)"
   ]
  }
 ],
 "metadata": {
  "kernelspec": {
   "display_name": ".venv",
   "language": "python",
   "name": "python3"
  },
  "language_info": {
   "codemirror_mode": {
    "name": "ipython",
    "version": 3
   },
   "file_extension": ".py",
   "mimetype": "text/x-python",
   "name": "python",
   "nbconvert_exporter": "python",
   "pygments_lexer": "ipython3",
   "version": "3.11.3"
  },
  "orig_nbformat": 4
 },
 "nbformat": 4,
 "nbformat_minor": 2
}
