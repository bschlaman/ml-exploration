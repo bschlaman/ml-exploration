{
 "cells": [
  {
   "cell_type": "markdown",
   "metadata": {},
   "source": [
    "# <div align=\"center\" style=\"width: max-content; margin: 0 auto; background: MediumSlateBlue; padding: 0.3rem; border-radius: 0.5rem\">Embeddings</div>\n",
    "### <div align=\"center\" style=\"font-weight: lighter; font-style: italic\">Embedddings used in NLP and LLMs</div>"
   ]
  },
  {
   "cell_type": "code",
   "execution_count": null,
   "metadata": {},
   "outputs": [],
   "source": [
    "import gensim.downloader\n",
    "import prettytable"
   ]
  },
  {
   "cell_type": "code",
   "execution_count": null,
   "metadata": {},
   "outputs": [],
   "source": [
    "model: gensim.models.keyedvectors.KeyedVectors = gensim.downloader.load(\"glove-wiki-gigaword-50\")"
   ]
  },
  {
   "cell_type": "code",
   "execution_count": null,
   "metadata": {},
   "outputs": [],
   "source": [
    "pt = prettytable.PrettyTable([\"word 1\", \"word 2\", \"semantic similarity\"])\n",
    "pt.align = 'l'\n",
    "pairs = [\n",
    "    (\"car\", \"minivan\"),\n",
    "    (\"car\", \"bicycle\"),\n",
    "    (\"car\", \"airplane\"),\n",
    "    (\"car\", \"cereal\"),\n",
    "    (\"car\", \"communism\"),\n",
    "]\n",
    "for w1, w2 in pairs:\n",
    "    pt.add_row([w1, w2, model.similarity(w1, w2)])\n",
    "\n",
    "print(pt)"
   ]
  },
  {
   "cell_type": "code",
   "execution_count": null,
   "metadata": {},
   "outputs": [],
   "source": [
    "model.similar_by_vector(model[\"woman\"] - model[\"man\"] + model[\"king\"], 10)"
   ]
  },
  {
   "cell_type": "code",
   "execution_count": null,
   "metadata": {},
   "outputs": [],
   "source": [
    "model[\"car\"].dot(model[\"minivan\"])"
   ]
  }
 ],
 "metadata": {
  "kernelspec": {
   "display_name": ".venv",
   "language": "python",
   "name": "python3"
  },
  "language_info": {
   "codemirror_mode": {
    "name": "ipython",
    "version": 3
   },
   "file_extension": ".py",
   "mimetype": "text/x-python",
   "name": "python",
   "nbconvert_exporter": "python",
   "pygments_lexer": "ipython3",
   "version": "3.11.8"
  }
 },
 "nbformat": 4,
 "nbformat_minor": 2
}
